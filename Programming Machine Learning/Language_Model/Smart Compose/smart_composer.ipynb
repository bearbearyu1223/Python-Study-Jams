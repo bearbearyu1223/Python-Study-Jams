{
  "nbformat": 4,
  "nbformat_minor": 0,
  "metadata": {
    "colab": {
      "name": "smart_composer.ipynb",
      "provenance": [],
      "collapsed_sections": [],
      "machine_shape": "hm",
      "authorship_tag": "ABX9TyOzgAkdEdb54r98tUFtPPAQ",
      "include_colab_link": true
    },
    "kernelspec": {
      "name": "python3",
      "display_name": "Python 3"
    },
    "language_info": {
      "name": "python"
    },
    "accelerator": "GPU"
  },
  "cells": [
    {
      "cell_type": "markdown",
      "metadata": {
        "id": "view-in-github",
        "colab_type": "text"
      },
      "source": [
        "<a href=\"https://colab.research.google.com/github/bearbearyu1223/Python-Study-Jams/blob/main/Programming%20Machine%20Learning/Language_Model/Smart%20Compose/smart_composer.ipynb\" target=\"_parent\"><img src=\"https://colab.research.google.com/assets/colab-badge.svg\" alt=\"Open In Colab\"/></a>"
      ]
    },
    {
      "cell_type": "code",
      "metadata": {
        "colab": {
          "base_uri": "https://localhost:8080/"
        },
        "id": "BGGvCCWbpON0",
        "outputId": "0bf8515f-70c1-4514-9026-1132ab9691d5"
      },
      "source": [
        "gpu_info = !nvidia-smi\n",
        "gpu_info = '\\n'.join(gpu_info)\n",
        "if gpu_info.find('failed') >= 0:\n",
        "  print('Not connected to a GPU')\n",
        "else:\n",
        "  print(gpu_info)"
      ],
      "execution_count": 1,
      "outputs": [
        {
          "output_type": "stream",
          "name": "stdout",
          "text": [
            "Mon Oct  4 02:21:09 2021       \n",
            "+-----------------------------------------------------------------------------+\n",
            "| NVIDIA-SMI 470.74       Driver Version: 460.32.03    CUDA Version: 11.2     |\n",
            "|-------------------------------+----------------------+----------------------+\n",
            "| GPU  Name        Persistence-M| Bus-Id        Disp.A | Volatile Uncorr. ECC |\n",
            "| Fan  Temp  Perf  Pwr:Usage/Cap|         Memory-Usage | GPU-Util  Compute M. |\n",
            "|                               |                      |               MIG M. |\n",
            "|===============================+======================+======================|\n",
            "|   0  Tesla P100-PCIE...  Off  | 00000000:00:04.0 Off |                    0 |\n",
            "| N/A   49C    P0    32W / 250W |      0MiB / 16280MiB |      0%      Default |\n",
            "|                               |                      |                  N/A |\n",
            "+-------------------------------+----------------------+----------------------+\n",
            "                                                                               \n",
            "+-----------------------------------------------------------------------------+\n",
            "| Processes:                                                                  |\n",
            "|  GPU   GI   CI        PID   Type   Process name                  GPU Memory |\n",
            "|        ID   ID                                                   Usage      |\n",
            "|=============================================================================|\n",
            "|  No running processes found                                                 |\n",
            "+-----------------------------------------------------------------------------+\n"
          ]
        }
      ]
    },
    {
      "cell_type": "code",
      "metadata": {
        "id": "4EQjyubFrIk1"
      },
      "source": [
        "import numpy as np\n",
        "import tensorflow as tf\n",
        "from tensorflow.keras.callbacks import ModelCheckpoint, ReduceLROnPlateau, EarlyStopping\n",
        "from model import EncoderDecoderModel\n",
        "from preprocess import generate_word_based_train_test_dataset, generate_train_dataset_for_model, generate_vocab_dict, \\\n",
        "    convert_sentences_to_idx, START_TOKEN, END_TOKEN, SPACE, UNK_TOKEN, generate_embedding_matrix_from_glove\n",
        "from trainer import Trainer, TrainerConfig, get_predicted_txt_seq, get_txt_from_idx\n",
        "from pprint import pprint\n",
        "import matplotlib.pyplot as plt"
      ],
      "execution_count": 2,
      "outputs": []
    },
    {
      "cell_type": "code",
      "metadata": {
        "colab": {
          "base_uri": "https://localhost:8080/"
        },
        "id": "bcq7CLobrXs7",
        "outputId": "8bae45d3-5b66-4ed8-f0be-e2881cd3dbb0"
      },
      "source": [
        " X_train, _, y_train, _ = generate_word_based_train_test_dataset(\"./data/test.csv\")\n",
        "word2idx, idx2word, vocab = generate_vocab_dict(\"./data/test.csv\")\n",
        "embedding_matrix = generate_embedding_matrix_from_glove(vocab=vocab, word2idx=word2idx)\n",
        "input_data, teacher_data, target_data, max_len_input, max_len_output = generate_train_dataset_for_model(\n",
        "    X_train=X_train, y_train=y_train,word2idx=word2idx)"
      ],
      "execution_count": 3,
      "outputs": [
        {
          "output_type": "stream",
          "name": "stderr",
          "text": [
            "100%|██████████| 170/170 [00:04<00:00, 35.30it/s]\n",
            "100%|██████████| 170/170 [00:00<00:00, 51792.81it/s]\n"
          ]
        },
        {
          "output_type": "stream",
          "name": "stdout",
          "text": [
            "'Found 400000 word vectors.'\n",
            "'Convert 594 words and miss 7 words'\n"
          ]
        }
      ]
    },
    {
      "cell_type": "code",
      "metadata": {
        "id": "wyZawAjJBtFt",
        "colab": {
          "base_uri": "https://localhost:8080/"
        },
        "outputId": "b92daf0b-f307-49a2-da6f-765b6bc873d3"
      },
      "source": [
        "config = TrainerConfig(input_vocab_size=len(word2idx), target_vocab_size=len(word2idx), embedding_dim=300,\n",
        "                           embedding_matrix=embedding_matrix,\n",
        "                           units=128, max_len_input=max_len_input, max_len_output=max_len_output,\n",
        "                           dropout=0.2, model_name=\"Encoder_Decoder\", batch_size=16, epochs=50)\n",
        "trainer = Trainer(input_data, teacher_data, target_data, config)\n",
        "trainer.train()\n",
        "history = trainer.history"
      ],
      "execution_count": 4,
      "outputs": [
        {
          "output_type": "stream",
          "name": "stdout",
          "text": [
            "WARNING:tensorflow:Layer Encoder_LSTM will not use cuDNN kernels since it doesn't meet the criteria. It will use a generic GPU kernel as fallback when running on GPU.\n",
            "WARNING:tensorflow:Layer Decoder_LSTM will not use cuDNN kernels since it doesn't meet the criteria. It will use a generic GPU kernel as fallback when running on GPU.\n",
            "Model: \"encoder_decoder_model\"\n",
            "_________________________________________________________________\n",
            "Layer (type)                 Output Shape              Param #   \n",
            "=================================================================\n",
            "encoder (Encoder)            multiple                  177348    \n",
            "_________________________________________________________________\n",
            "decoder (Decoder)            multiple                  271901    \n",
            "=================================================================\n",
            "Total params: 449,249\n",
            "Trainable params: 328,793\n",
            "Non-trainable params: 120,456\n",
            "_________________________________________________________________\n",
            "None\n",
            "Epoch 1/50\n",
            "68/68 [==============================] - 12s 118ms/step - loss: 1.9403 - sparse_categorical_crossentropy: 4.8674 - val_loss: 2.2565 - val_sparse_categorical_crossentropy: 5.4793\n",
            "Epoch 2/50\n",
            "68/68 [==============================] - 7s 108ms/step - loss: 1.2515 - sparse_categorical_crossentropy: 3.1396 - val_loss: 1.8895 - val_sparse_categorical_crossentropy: 4.5883\n",
            "Epoch 3/50\n",
            "68/68 [==============================] - 7s 109ms/step - loss: 0.7547 - sparse_categorical_crossentropy: 1.8933 - val_loss: 1.4463 - val_sparse_categorical_crossentropy: 3.5121\n",
            "Epoch 4/50\n",
            "68/68 [==============================] - 7s 108ms/step - loss: 0.4796 - sparse_categorical_crossentropy: 1.2031 - val_loss: 1.0200 - val_sparse_categorical_crossentropy: 2.4768\n",
            "Epoch 5/50\n",
            "68/68 [==============================] - 7s 108ms/step - loss: 0.3267 - sparse_categorical_crossentropy: 0.8194 - val_loss: 0.6124 - val_sparse_categorical_crossentropy: 1.4871\n",
            "Epoch 6/50\n",
            "68/68 [==============================] - 7s 108ms/step - loss: 0.2474 - sparse_categorical_crossentropy: 0.6207 - val_loss: 0.4178 - val_sparse_categorical_crossentropy: 1.0146\n",
            "Epoch 7/50\n",
            "68/68 [==============================] - 7s 108ms/step - loss: 0.1921 - sparse_categorical_crossentropy: 0.4820 - val_loss: 0.2961 - val_sparse_categorical_crossentropy: 0.7190\n",
            "Epoch 8/50\n",
            "68/68 [==============================] - 7s 109ms/step - loss: 0.1487 - sparse_categorical_crossentropy: 0.3731 - val_loss: 0.2252 - val_sparse_categorical_crossentropy: 0.5469\n",
            "Epoch 9/50\n",
            "68/68 [==============================] - 7s 107ms/step - loss: 0.1227 - sparse_categorical_crossentropy: 0.3078 - val_loss: 0.2106 - val_sparse_categorical_crossentropy: 0.5114\n",
            "Epoch 10/50\n",
            "68/68 [==============================] - 7s 106ms/step - loss: 0.1021 - sparse_categorical_crossentropy: 0.2562 - val_loss: 0.1873 - val_sparse_categorical_crossentropy: 0.4549\n",
            "Epoch 11/50\n",
            "68/68 [==============================] - 7s 108ms/step - loss: 0.0843 - sparse_categorical_crossentropy: 0.2115 - val_loss: 0.1755 - val_sparse_categorical_crossentropy: 0.4262\n",
            "Epoch 12/50\n",
            "68/68 [==============================] - 7s 108ms/step - loss: 0.0750 - sparse_categorical_crossentropy: 0.1882 - val_loss: 0.1688 - val_sparse_categorical_crossentropy: 0.4100\n",
            "Epoch 13/50\n",
            "68/68 [==============================] - 7s 107ms/step - loss: 0.0646 - sparse_categorical_crossentropy: 0.1620 - val_loss: 0.1679 - val_sparse_categorical_crossentropy: 0.4078\n",
            "Epoch 14/50\n",
            "68/68 [==============================] - 7s 108ms/step - loss: 0.0594 - sparse_categorical_crossentropy: 0.1491 - val_loss: 0.1657 - val_sparse_categorical_crossentropy: 0.4024\n",
            "Epoch 15/50\n",
            "68/68 [==============================] - 7s 108ms/step - loss: 0.0465 - sparse_categorical_crossentropy: 0.1166 - val_loss: 0.1686 - val_sparse_categorical_crossentropy: 0.4094\n",
            "Epoch 16/50\n",
            "68/68 [==============================] - 7s 109ms/step - loss: 0.0414 - sparse_categorical_crossentropy: 0.1039 - val_loss: 0.1628 - val_sparse_categorical_crossentropy: 0.3953\n",
            "Epoch 17/50\n",
            "68/68 [==============================] - 7s 107ms/step - loss: 0.0371 - sparse_categorical_crossentropy: 0.0931 - val_loss: 0.1590 - val_sparse_categorical_crossentropy: 0.3862\n",
            "Epoch 18/50\n",
            "68/68 [==============================] - 7s 107ms/step - loss: 0.0379 - sparse_categorical_crossentropy: 0.0952 - val_loss: 0.1711 - val_sparse_categorical_crossentropy: 0.4154\n",
            "Epoch 19/50\n",
            "68/68 [==============================] - 7s 108ms/step - loss: 0.0350 - sparse_categorical_crossentropy: 0.0877 - val_loss: 0.1654 - val_sparse_categorical_crossentropy: 0.4017\n",
            "\n",
            "Epoch 00019: ReduceLROnPlateau reducing learning rate to 0.0009000000427477062.\n",
            "Epoch 20/50\n",
            "68/68 [==============================] - 7s 108ms/step - loss: 0.0285 - sparse_categorical_crossentropy: 0.0714 - val_loss: 0.1632 - val_sparse_categorical_crossentropy: 0.3962\n",
            "Epoch 21/50\n",
            "68/68 [==============================] - 7s 107ms/step - loss: 0.0245 - sparse_categorical_crossentropy: 0.0614 - val_loss: 0.1621 - val_sparse_categorical_crossentropy: 0.3936\n",
            "\n",
            "Epoch 00021: ReduceLROnPlateau reducing learning rate to 0.0008100000384729356.\n",
            "Epoch 22/50\n",
            "68/68 [==============================] - 7s 107ms/step - loss: 0.0234 - sparse_categorical_crossentropy: 0.0587 - val_loss: 0.1620 - val_sparse_categorical_crossentropy: 0.3935\n",
            "Epoch 23/50\n",
            "68/68 [==============================] - 7s 107ms/step - loss: 0.0204 - sparse_categorical_crossentropy: 0.0512 - val_loss: 0.1664 - val_sparse_categorical_crossentropy: 0.4041\n",
            "\n",
            "Epoch 00023: ReduceLROnPlateau reducing learning rate to 0.0007290000503417104.\n",
            "Epoch 24/50\n",
            "68/68 [==============================] - 7s 108ms/step - loss: 0.0171 - sparse_categorical_crossentropy: 0.0430 - val_loss: 0.1641 - val_sparse_categorical_crossentropy: 0.3985\n",
            "Epoch 25/50\n",
            "68/68 [==============================] - 7s 107ms/step - loss: 0.0169 - sparse_categorical_crossentropy: 0.0425 - val_loss: 0.1614 - val_sparse_categorical_crossentropy: 0.3918\n",
            "\n",
            "Epoch 00025: ReduceLROnPlateau reducing learning rate to 0.0006561000715009868.\n",
            "Epoch 00025: early stopping\n"
          ]
        }
      ]
    },
    {
      "cell_type": "code",
      "metadata": {
        "colab": {
          "base_uri": "https://localhost:8080/",
          "height": 296
        },
        "id": "hYnCJNLiQQKQ",
        "outputId": "fe0c121c-4f54-454f-e436-1ea6cb5d5bc2"
      },
      "source": [
        "plt.plot(history.history['loss'], label=\"Training loss\")\n",
        "plt.plot(history.history['val_loss'], label=\"Validation loss\")\n",
        "plt.xlabel(\"Epoch\")\n",
        "plt.ylabel(\"Loss\")\n",
        "plt.legend()\n",
        "plt.show()\n",
        "plt.savefig(\"train_history.png\")"
      ],
      "execution_count": 5,
      "outputs": [
        {
          "output_type": "display_data",
          "data": {
            "image/png": "[encoded data removed]",
            "text/plain": [
              "<Figure size 432x288 with 1 Axes>"
            ]
          },
          "metadata": {
            "needs_background": "light"
          }
        },
        {
          "output_type": "display_data",
          "data": {
            "text/plain": [
              "<Figure size 432x288 with 0 Axes>"
            ]
          },
          "metadata": {}
        }
      ]
    },
    {
      "cell_type": "code",
      "metadata": {
        "colab": {
          "base_uri": "https://localhost:8080/"
        },
        "id": "rkbLcil-E0QK",
        "outputId": "215902ee-7ee9-4f89-cbea-8317f9b5bd84"
      },
      "source": [
        "test_input_txt_seq = [\"i will\", \n",
        "                      \"if anyone have\", \n",
        "                      \"please mark your\", \n",
        "                      \"we will get back to you as\",\n",
        "                      \"just think\",\n",
        "                      ]\n",
        "predicted_steps = 3\n",
        "for i in test_input_txt_seq:\n",
        "    prediction = get_predicted_txt_seq(enc_dec_model=trainer.model, word2idx=word2idx, idx2word=idx2word,\n",
        "                                        output_max_length=trainer.config.max_len_output, input_seq=i)\n",
        "    pprint(\"input seq : {}\".format(i))\n",
        "    predicted_tokens = prediction.split()\n",
        "    if len(predicted_tokens) <= predicted_steps:\n",
        "        pprint(\"predict seq : {}\".format(\" \".join(predicted_tokens[1:])))\n",
        "    else:\n",
        "        pprint(\"predict seq : {}\".format(\" \".join(predicted_tokens[1:predicted_steps])))"
      ],
      "execution_count": 11,
      "outputs": [
        {
          "output_type": "stream",
          "name": "stdout",
          "text": [
            "'input seq : i will'\n",
            "'predict seq : know more'\n",
            "'input seq : if anyone have'\n",
            "'predict seq : the opportunity'\n",
            "'input seq : please mark your'\n",
            "'predict seq : calendars calendars'\n",
            "'input seq : we will get back to you as'\n",
            "'predict seq : soon as'\n",
            "'input seq : just think'\n",
            "'predict seq : about it'\n"
          ]
        }
      ]
    }
  ]
}